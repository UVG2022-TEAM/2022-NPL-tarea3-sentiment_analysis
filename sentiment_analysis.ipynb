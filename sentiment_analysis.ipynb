{
 "cells": [
  {
   "cell_type": "markdown",
   "metadata": {},
   "source": [
    "# Sentiment Analysis"
   ]
  },
  {
   "cell_type": "code",
   "execution_count": 13,
   "metadata": {},
   "outputs": [],
   "source": [
    "import enum\n",
    "import pickle\n",
    "import spacy_transformers\n",
    "from pprint import pprint\n",
    "import matplotlib.pyplot as plt\n",
    "import random\n",
    "import seaborn as sns\n",
    "from sklearn.model_selection import train_test_split\n",
    "import itertools\n",
    "from sklearn.metrics import precision_recall_curve, PrecisionRecallDisplay\n",
    "from funciones_nlp import *"
   ]
  },
  {
   "cell_type": "code",
   "execution_count": 14,
   "metadata": {},
   "outputs": [],
   "source": [
    "df = pd.read_csv('./data/reviews.csv')"
   ]
  },
  {
   "cell_type": "code",
   "execution_count": 15,
   "metadata": {},
   "outputs": [
    {
     "data": {
      "text/html": [
       "<div>\n",
       "<style scoped>\n",
       "    .dataframe tbody tr th:only-of-type {\n",
       "        vertical-align: middle;\n",
       "    }\n",
       "\n",
       "    .dataframe tbody tr th {\n",
       "        vertical-align: top;\n",
       "    }\n",
       "\n",
       "    .dataframe thead th {\n",
       "        text-align: right;\n",
       "    }\n",
       "</style>\n",
       "<table border=\"1\" class=\"dataframe\">\n",
       "  <thead>\n",
       "    <tr style=\"text-align: right;\">\n",
       "      <th></th>\n",
       "      <th>rating</th>\n",
       "      <th>review</th>\n",
       "    </tr>\n",
       "  </thead>\n",
       "  <tbody>\n",
       "    <tr>\n",
       "      <th>0</th>\n",
       "      <td>50</td>\n",
       "      <td>This is one of the best hotels I've ever staye...</td>\n",
       "    </tr>\n",
       "    <tr>\n",
       "      <th>1</th>\n",
       "      <td>50</td>\n",
       "      <td>Everything about this hotel was awesome. The s...</td>\n",
       "    </tr>\n",
       "    <tr>\n",
       "      <th>2</th>\n",
       "      <td>50</td>\n",
       "      <td>Our tour group stayed here for two nights.  Th...</td>\n",
       "    </tr>\n",
       "    <tr>\n",
       "      <th>3</th>\n",
       "      <td>50</td>\n",
       "      <td>Excellent service at Porta Hotel Antigua. From...</td>\n",
       "    </tr>\n",
       "    <tr>\n",
       "      <th>4</th>\n",
       "      <td>50</td>\n",
       "      <td>I almost always stay at Hotel Antigua when I t...</td>\n",
       "    </tr>\n",
       "    <tr>\n",
       "      <th>...</th>\n",
       "      <td>...</td>\n",
       "      <td>...</td>\n",
       "    </tr>\n",
       "    <tr>\n",
       "      <th>15677</th>\n",
       "      <td>40</td>\n",
       "      <td>Last week I stayed at the Camino Real in Antig...</td>\n",
       "    </tr>\n",
       "    <tr>\n",
       "      <th>15678</th>\n",
       "      <td>50</td>\n",
       "      <td>My boyfriend was in Guate on business and we d...</td>\n",
       "    </tr>\n",
       "    <tr>\n",
       "      <th>15679</th>\n",
       "      <td>40</td>\n",
       "      <td>I stayed at Camino Real Antigua for a conferen...</td>\n",
       "    </tr>\n",
       "    <tr>\n",
       "      <th>15680</th>\n",
       "      <td>50</td>\n",
       "      <td>Was in Antigua for the weekend, attending an A...</td>\n",
       "    </tr>\n",
       "    <tr>\n",
       "      <th>15681</th>\n",
       "      <td>40</td>\n",
       "      <td>very nice little hotel, brand new, with lots o...</td>\n",
       "    </tr>\n",
       "  </tbody>\n",
       "</table>\n",
       "<p>15682 rows × 2 columns</p>\n",
       "</div>"
      ],
      "text/plain": [
       "       rating                                             review\n",
       "0          50  This is one of the best hotels I've ever staye...\n",
       "1          50  Everything about this hotel was awesome. The s...\n",
       "2          50  Our tour group stayed here for two nights.  Th...\n",
       "3          50  Excellent service at Porta Hotel Antigua. From...\n",
       "4          50  I almost always stay at Hotel Antigua when I t...\n",
       "...       ...                                                ...\n",
       "15677      40  Last week I stayed at the Camino Real in Antig...\n",
       "15678      50  My boyfriend was in Guate on business and we d...\n",
       "15679      40  I stayed at Camino Real Antigua for a conferen...\n",
       "15680      50  Was in Antigua for the weekend, attending an A...\n",
       "15681      40  very nice little hotel, brand new, with lots o...\n",
       "\n",
       "[15682 rows x 2 columns]"
      ]
     },
     "execution_count": 15,
     "metadata": {},
     "output_type": "execute_result"
    }
   ],
   "source": [
    "df"
   ]
  },
  {
   "cell_type": "code",
   "execution_count": 16,
   "metadata": {},
   "outputs": [
    {
     "name": "stdout",
     "output_type": "stream",
     "text": [
      "<class 'pandas.core.frame.DataFrame'>\n",
      "RangeIndex: 15682 entries, 0 to 15681\n",
      "Data columns (total 2 columns):\n",
      " #   Column  Non-Null Count  Dtype \n",
      "---  ------  --------------  ----- \n",
      " 0   rating  15682 non-null  int64 \n",
      " 1   review  15682 non-null  object\n",
      "dtypes: int64(1), object(1)\n",
      "memory usage: 245.2+ KB\n"
     ]
    }
   ],
   "source": [
    "df.info()"
   ]
  },
  {
   "cell_type": "markdown",
   "metadata": {},
   "source": [
    "## Split"
   ]
  },
  {
   "cell_type": "code",
   "execution_count": 17,
   "metadata": {},
   "outputs": [],
   "source": [
    "total_train, test = train_test_split(df, train_size=0.85,  random_state=2022)"
   ]
  },
  {
   "cell_type": "markdown",
   "metadata": {},
   "source": [
    "Para obtener el set de validación, lo extraemos del set de entrenamiento"
   ]
  },
  {
   "cell_type": "code",
   "execution_count": 18,
   "metadata": {},
   "outputs": [],
   "source": [
    "train, validation = train_test_split(total_train, train_size=0.828969415701948)"
   ]
  },
  {
   "cell_type": "markdown",
   "metadata": {},
   "source": [
    "Para validar que las proporciones del set de entrenamiento, validación y prueba son correctas, realizaremos una comprobación rápida. Primero separamos en entrenamiento y prueba con una proporción de 85% - 15%"
   ]
  },
  {
   "cell_type": "code",
   "execution_count": 19,
   "metadata": {},
   "outputs": [
    {
     "name": "stdout",
     "output_type": "stream",
     "text": [
      "0.7\n",
      "0.15\n",
      "0.15\n"
     ]
    }
   ],
   "source": [
    "print(round(len(train) / len(df), 2))\n",
    "print(round(len(validation) / len(df), 2))\n",
    "print(round(len(test) / len(df), 2))"
   ]
  },
  {
   "cell_type": "code",
   "execution_count": 20,
   "metadata": {},
   "outputs": [
    {
     "data": {
      "text/html": [
       "<div>\n",
       "<style scoped>\n",
       "    .dataframe tbody tr th:only-of-type {\n",
       "        vertical-align: middle;\n",
       "    }\n",
       "\n",
       "    .dataframe tbody tr th {\n",
       "        vertical-align: top;\n",
       "    }\n",
       "\n",
       "    .dataframe thead th {\n",
       "        text-align: right;\n",
       "    }\n",
       "</style>\n",
       "<table border=\"1\" class=\"dataframe\">\n",
       "  <thead>\n",
       "    <tr style=\"text-align: right;\">\n",
       "      <th></th>\n",
       "      <th>rating</th>\n",
       "      <th>review</th>\n",
       "    </tr>\n",
       "  </thead>\n",
       "  <tbody>\n",
       "    <tr>\n",
       "      <th>10106</th>\n",
       "      <td>50</td>\n",
       "      <td>With a popular place like Antigua the menu of ...</td>\n",
       "    </tr>\n",
       "    <tr>\n",
       "      <th>9894</th>\n",
       "      <td>50</td>\n",
       "      <td>We never heard about this place and we came an...</td>\n",
       "    </tr>\n",
       "    <tr>\n",
       "      <th>4936</th>\n",
       "      <td>40</td>\n",
       "      <td>We stayed at posada don Diego for 3 nights, th...</td>\n",
       "    </tr>\n",
       "    <tr>\n",
       "      <th>1747</th>\n",
       "      <td>50</td>\n",
       "      <td>We stayed in a private room with private bath ...</td>\n",
       "    </tr>\n",
       "    <tr>\n",
       "      <th>12713</th>\n",
       "      <td>50</td>\n",
       "      <td>After our 45 minute ride from the Guatemala Ci...</td>\n",
       "    </tr>\n",
       "    <tr>\n",
       "      <th>...</th>\n",
       "      <td>...</td>\n",
       "      <td>...</td>\n",
       "    </tr>\n",
       "    <tr>\n",
       "      <th>427</th>\n",
       "      <td>50</td>\n",
       "      <td>We stayed here 3 nights, left for a few days a...</td>\n",
       "    </tr>\n",
       "    <tr>\n",
       "      <th>2808</th>\n",
       "      <td>50</td>\n",
       "      <td>This place is perfect for all types of travell...</td>\n",
       "    </tr>\n",
       "    <tr>\n",
       "      <th>5008</th>\n",
       "      <td>50</td>\n",
       "      <td>This hotel is located behind a well secured ga...</td>\n",
       "    </tr>\n",
       "    <tr>\n",
       "      <th>12350</th>\n",
       "      <td>50</td>\n",
       "      <td>For years, we have visited Antigua a few times...</td>\n",
       "    </tr>\n",
       "    <tr>\n",
       "      <th>12420</th>\n",
       "      <td>20</td>\n",
       "      <td>Hotel is nice looking.  But, I found the inter...</td>\n",
       "    </tr>\n",
       "  </tbody>\n",
       "</table>\n",
       "<p>11049 rows × 2 columns</p>\n",
       "</div>"
      ],
      "text/plain": [
       "       rating                                             review\n",
       "10106      50  With a popular place like Antigua the menu of ...\n",
       "9894       50  We never heard about this place and we came an...\n",
       "4936       40  We stayed at posada don Diego for 3 nights, th...\n",
       "1747       50  We stayed in a private room with private bath ...\n",
       "12713      50  After our 45 minute ride from the Guatemala Ci...\n",
       "...       ...                                                ...\n",
       "427        50  We stayed here 3 nights, left for a few days a...\n",
       "2808       50  This place is perfect for all types of travell...\n",
       "5008       50  This hotel is located behind a well secured ga...\n",
       "12350      50  For years, we have visited Antigua a few times...\n",
       "12420      20  Hotel is nice looking.  But, I found the inter...\n",
       "\n",
       "[11049 rows x 2 columns]"
      ]
     },
     "execution_count": 20,
     "metadata": {},
     "output_type": "execute_result"
    }
   ],
   "source": [
    "train"
   ]
  },
  {
   "cell_type": "code",
   "execution_count": 21,
   "metadata": {},
   "outputs": [],
   "source": [
    "train_prep = prepare_data(train)"
   ]
  },
  {
   "cell_type": "code",
   "execution_count": 22,
   "metadata": {},
   "outputs": [
    {
     "data": {
      "text/html": [
       "<div>\n",
       "<style scoped>\n",
       "    .dataframe tbody tr th:only-of-type {\n",
       "        vertical-align: middle;\n",
       "    }\n",
       "\n",
       "    .dataframe tbody tr th {\n",
       "        vertical-align: top;\n",
       "    }\n",
       "\n",
       "    .dataframe thead th {\n",
       "        text-align: right;\n",
       "    }\n",
       "</style>\n",
       "<table border=\"1\" class=\"dataframe\">\n",
       "  <thead>\n",
       "    <tr style=\"text-align: right;\">\n",
       "      <th></th>\n",
       "      <th>rating</th>\n",
       "      <th>review</th>\n",
       "      <th>sentiment</th>\n",
       "    </tr>\n",
       "  </thead>\n",
       "  <tbody>\n",
       "    <tr>\n",
       "      <th>8726</th>\n",
       "      <td>50</td>\n",
       "      <td>Quaint and absolutely beautiful Hacienda I jus...</td>\n",
       "      <td>Sentiments.POS</td>\n",
       "    </tr>\n",
       "    <tr>\n",
       "      <th>9326</th>\n",
       "      <td>50</td>\n",
       "      <td>This was a great place to stay, we would defin...</td>\n",
       "      <td>Sentiments.POS</td>\n",
       "    </tr>\n",
       "    <tr>\n",
       "      <th>12963</th>\n",
       "      <td>50</td>\n",
       "      <td>We recently visited The Pensativo hotel, Our g...</td>\n",
       "      <td>Sentiments.POS</td>\n",
       "    </tr>\n",
       "    <tr>\n",
       "      <th>8184</th>\n",
       "      <td>40</td>\n",
       "      <td>Our 1st hostel visit ever!  Age 48 and 59. Spe...</td>\n",
       "      <td>Sentiments.POS</td>\n",
       "    </tr>\n",
       "    <tr>\n",
       "      <th>4050</th>\n",
       "      <td>50</td>\n",
       "      <td>This is my first time back in Antigua in about...</td>\n",
       "      <td>Sentiments.POS</td>\n",
       "    </tr>\n",
       "    <tr>\n",
       "      <th>13995</th>\n",
       "      <td>40</td>\n",
       "      <td>The hotel is nice for the price range. We orig...</td>\n",
       "      <td>Sentiments.POS</td>\n",
       "    </tr>\n",
       "    <tr>\n",
       "      <th>231</th>\n",
       "      <td>40</td>\n",
       "      <td>This small hotel is well executed, the staff i...</td>\n",
       "      <td>Sentiments.POS</td>\n",
       "    </tr>\n",
       "    <tr>\n",
       "      <th>9360</th>\n",
       "      <td>40</td>\n",
       "      <td>This hostel is the cheapest option in Antigua ...</td>\n",
       "      <td>Sentiments.POS</td>\n",
       "    </tr>\n",
       "    <tr>\n",
       "      <th>14283</th>\n",
       "      <td>50</td>\n",
       "      <td>I went with my mother and my 5 year old daught...</td>\n",
       "      <td>Sentiments.POS</td>\n",
       "    </tr>\n",
       "    <tr>\n",
       "      <th>3565</th>\n",
       "      <td>50</td>\n",
       "      <td>By far one of the best hostels I have ever sta...</td>\n",
       "      <td>Sentiments.POS</td>\n",
       "    </tr>\n",
       "  </tbody>\n",
       "</table>\n",
       "</div>"
      ],
      "text/plain": [
       "       rating                                             review  \\\n",
       "8726       50  Quaint and absolutely beautiful Hacienda I jus...   \n",
       "9326       50  This was a great place to stay, we would defin...   \n",
       "12963      50  We recently visited The Pensativo hotel, Our g...   \n",
       "8184       40  Our 1st hostel visit ever!  Age 48 and 59. Spe...   \n",
       "4050       50  This is my first time back in Antigua in about...   \n",
       "13995      40  The hotel is nice for the price range. We orig...   \n",
       "231        40  This small hotel is well executed, the staff i...   \n",
       "9360       40  This hostel is the cheapest option in Antigua ...   \n",
       "14283      50  I went with my mother and my 5 year old daught...   \n",
       "3565       50  By far one of the best hostels I have ever sta...   \n",
       "\n",
       "            sentiment  \n",
       "8726   Sentiments.POS  \n",
       "9326   Sentiments.POS  \n",
       "12963  Sentiments.POS  \n",
       "8184   Sentiments.POS  \n",
       "4050   Sentiments.POS  \n",
       "13995  Sentiments.POS  \n",
       "231    Sentiments.POS  \n",
       "9360   Sentiments.POS  \n",
       "14283  Sentiments.POS  \n",
       "3565   Sentiments.POS  "
      ]
     },
     "execution_count": 22,
     "metadata": {},
     "output_type": "execute_result"
    }
   ],
   "source": [
    "train_prep.sample(n = 10)"
   ]
  },
  {
   "cell_type": "code",
   "execution_count": 23,
   "metadata": {},
   "outputs": [
    {
     "data": {
      "text/plain": [
       "<AxesSubplot:>"
      ]
     },
     "execution_count": 23,
     "metadata": {},
     "output_type": "execute_result"
    },
    {
     "data": {
      "image/png": "[encoded data removed]",
      "text/plain": [
       "<Figure size 1152x432 with 1 Axes>"
      ]
     },
     "metadata": {
      "needs_background": "light"
     },
     "output_type": "display_data"
    }
   ],
   "source": [
    "fig = plt.figure(figsize=(16,6))\n",
    "train_prep['sentiment'].value_counts().plot(kind='bar')"
   ]
  },
  {
   "cell_type": "markdown",
   "metadata": {},
   "source": [
    "## Crear diccionario"
   ]
  },
  {
   "cell_type": "code",
   "execution_count": 24,
   "metadata": {},
   "outputs": [],
   "source": [
    "positive_reviews, negative_reviews = separar_clases(train_prep)"
   ]
  },
  {
   "cell_type": "markdown",
   "metadata": {},
   "source": [
    "## Preprocesamiento"
   ]
  },
  {
   "cell_type": "markdown",
   "metadata": {},
   "source": [
    "### Detección de bigramas"
   ]
  },
  {
   "cell_type": "code",
   "execution_count": 25,
   "metadata": {},
   "outputs": [],
   "source": [
    "# 2.4 seg\n",
    "positive_words = sentences_to_words(positive_reviews)\n",
    "negative_words = sentences_to_words(negative_reviews)"
   ]
  },
  {
   "cell_type": "code",
   "execution_count": 26,
   "metadata": {},
   "outputs": [],
   "source": [
    "# 3 min y 31 seg\n",
    "positive_words_wo_stopwords = remove_stopwords(positive_words)\n",
    "negative_words_wo_stopwords = remove_stopwords(negative_words)"
   ]
  },
  {
   "cell_type": "markdown",
   "metadata": {},
   "source": [
    "Utiliza las palabras de todas las clases para aprender todos los bigramas dentro de todo el corpus."
   ]
  },
  {
   "cell_type": "markdown",
   "metadata": {},
   "source": [
    "### Tuning hiperparámetros"
   ]
  },
  {
   "cell_type": "markdown",
   "metadata": {},
   "source": [
    "Para poder utilizar `model_selection.GridSearchCV` como método de tuning de hiperparámetros es necesario construir una clase que herede de la clase `BaseEstimator` y seguir una plantilla de manera minuciosa. A como indica la documentación: \"La motivación principal para hacer que una clase sea compatible con la interfaz del estimador scikit-learn podría ser que deseemos usarla junto con herramientas de evaluación y selección de modelos, como model_selection.GridSearchCV y pipeline.Pipeline.\"  Fuente:  https://bit.ly/3OCpAs3"
   ]
  },
  {
   "cell_type": "markdown",
   "metadata": {},
   "source": [
    "Debido a que este procedimiento no es trivial, optaremos por un método menos elegante, pero igual de efectivo.  Crearemos un cuadrícula de búsqueda con los hiperparámetros y realizaremos la iteración con todas las combinaciones posibles."
   ]
  },
  {
   "cell_type": "code",
   "execution_count": 27,
   "metadata": {},
   "outputs": [],
   "source": [
    "min_cont = [1, 5, 10]\n",
    "umbral = [5, 10, 15]"
   ]
  },
  {
   "cell_type": "markdown",
   "metadata": {},
   "source": [
    "Los parámetros de `min_count` y `threshold` están representados en la función por `c` y `t` respectivamente."
   ]
  },
  {
   "cell_type": "code",
   "execution_count": 28,
   "metadata": {},
   "outputs": [],
   "source": [
    "# 11.2 seg\n",
    "modelos_bigramas = []\n",
    "for x in min_cont:\n",
    "    for y in umbral:\n",
    "        modelos_bigramas.append(learn_bigrams(negative_words_wo_stopwords +\n",
    "                                              positive_words_wo_stopwords, c = x, t = y))"
   ]
  },
  {
   "cell_type": "code",
   "execution_count": 29,
   "metadata": {},
   "outputs": [
    {
     "data": {
      "text/plain": [
       "[<gensim.models.phrases.FrozenPhrases at 0x252d100b9a0>,\n",
       " <gensim.models.phrases.FrozenPhrases at 0x252d0287100>,\n",
       " <gensim.models.phrases.FrozenPhrases at 0x252d02861d0>,\n",
       " <gensim.models.phrases.FrozenPhrases at 0x252d0286da0>,\n",
       " <gensim.models.phrases.FrozenPhrases at 0x252d0287790>,\n",
       " <gensim.models.phrases.FrozenPhrases at 0x252d02857e0>,\n",
       " <gensim.models.phrases.FrozenPhrases at 0x252d0285f90>,\n",
       " <gensim.models.phrases.FrozenPhrases at 0x252d02864d0>,\n",
       " <gensim.models.phrases.FrozenPhrases at 0x252d02866e0>]"
      ]
     },
     "execution_count": 29,
     "metadata": {},
     "output_type": "execute_result"
    }
   ],
   "source": [
    "modelos_bigramas"
   ]
  },
  {
   "cell_type": "markdown",
   "metadata": {},
   "source": [
    "Hemos creado 9 modelos de bigramas, cada uno con una combinación específica de los parámetros `min_count` y `threshold`."
   ]
  },
  {
   "cell_type": "markdown",
   "metadata": {},
   "source": [
    "### Tokenización"
   ]
  },
  {
   "cell_type": "markdown",
   "metadata": {},
   "source": [
    "**No correr el siguiente código.** Lo que hicimos fue dejar corriendo el modelo y luego guardamos los resultados en un pickle para evitar estar corriéndolo"
   ]
  },
  {
   "cell_type": "markdown",
   "metadata": {},
   "source": [
    "Crearemos un modelo por cada modelo de bigrama creado en la parte de *tuning* de hiperparámetros:"
   ]
  },
  {
   "cell_type": "code",
   "execution_count": 30,
   "metadata": {},
   "outputs": [],
   "source": [
    "with open(r\"./pkl/modelos.pkl\", \"rb\") as input_file:\n",
    "    modelos = pickle.load(input_file)"
   ]
  },
  {
   "cell_type": "code",
   "execution_count": 31,
   "metadata": {},
   "outputs": [
    {
     "name": "stderr",
     "output_type": "stream",
     "text": [
      "c:\\Users\\ajrodas\\Miniconda3\\envs\\nlp\\lib\\site-packages\\torch\\amp\\autocast_mode.py:198: UserWarning: User provided device_type of 'cuda', but CUDA is not available. Disabling\n",
      "  warnings.warn('User provided device_type of \\'cuda\\', but CUDA is not available. Disabling')\n"
     ]
    }
   ],
   "source": [
    "# 32 min y 30 seg (sin lematización)\n",
    "# 60 min y 26 seg (con lematización)\n",
    "modelos = []\n",
    "for i in modelos_bigramas:\n",
    "    modelos.append(entrenar_modelos(train_prep, i))"
   ]
  },
  {
   "cell_type": "code",
   "execution_count": 19,
   "metadata": {},
   "outputs": [],
   "source": [
    "# with open(r\"./pkl/modelos.pkl\", \"wb\") as output_file:\n",
    "#    pickle.dump(modelos, output_file)"
   ]
  },
  {
   "cell_type": "code",
   "execution_count": 21,
   "metadata": {},
   "outputs": [
    {
     "data": {
      "text/plain": [
       "9"
      ]
     },
     "execution_count": 21,
     "metadata": {},
     "output_type": "execute_result"
    }
   ],
   "source": [
    "len(modelos)"
   ]
  },
  {
   "cell_type": "markdown",
   "metadata": {},
   "source": [
    "### Evaluación con set de Validación"
   ]
  },
  {
   "cell_type": "markdown",
   "metadata": {},
   "source": [
    "Correremos de manera paralela el primer modelo de bigrama con el primer modelo calculado, y así suscesivamente de manera iterativa. El objetivo es crear una lista de DataFrames.  Importante notar que para esta tarea utilizaremos el dataset de **validación**."
   ]
  },
  {
   "cell_type": "code",
   "execution_count": null,
   "metadata": {},
   "outputs": [],
   "source": [
    "with open(r\"./pkl/evaluacion_validacion.pkl\", \"rb\") as input_file:\n",
    "    val_res = pickle.load(input_file)"
   ]
  },
  {
   "cell_type": "code",
   "execution_count": 24,
   "metadata": {},
   "outputs": [],
   "source": [
    "# 14 min\n",
    "val_res = []\n",
    "for (i, j) in itertools.zip_longest(modelos_bigramas, modelos):\n",
    "    val_res.append(classified_data(validation, i, j))\n",
    "    "
   ]
  },
  {
   "cell_type": "code",
   "execution_count": 29,
   "metadata": {},
   "outputs": [],
   "source": [
    "# with open(r\"./pkl/evaluacion_validacion.pkl\", \"wb\") as output_file:\n",
    "#    pickle.dump(val_res, output_file)"
   ]
  },
  {
   "cell_type": "markdown",
   "metadata": {},
   "source": [
    "La lista resultante llamada `val_res` contiene dataframes con una columna de predicción en cada uno de ellos. Veamos el primero:"
   ]
  },
  {
   "cell_type": "code",
   "execution_count": 25,
   "metadata": {},
   "outputs": [
    {
     "data": {
      "text/html": [
       "<div>\n",
       "<style scoped>\n",
       "    .dataframe tbody tr th:only-of-type {\n",
       "        vertical-align: middle;\n",
       "    }\n",
       "\n",
       "    .dataframe tbody tr th {\n",
       "        vertical-align: top;\n",
       "    }\n",
       "\n",
       "    .dataframe thead th {\n",
       "        text-align: right;\n",
       "    }\n",
       "</style>\n",
       "<table border=\"1\" class=\"dataframe\">\n",
       "  <thead>\n",
       "    <tr style=\"text-align: right;\">\n",
       "      <th></th>\n",
       "      <th>rating</th>\n",
       "      <th>review</th>\n",
       "      <th>y_pred</th>\n",
       "      <th>y_true</th>\n",
       "    </tr>\n",
       "  </thead>\n",
       "  <tbody>\n",
       "    <tr>\n",
       "      <th>10416</th>\n",
       "      <td>50</td>\n",
       "      <td>This place was the perfect place to spend the ...</td>\n",
       "      <td>1</td>\n",
       "      <td>1</td>\n",
       "    </tr>\n",
       "    <tr>\n",
       "      <th>13968</th>\n",
       "      <td>50</td>\n",
       "      <td>This place has a great six bed dorm room (no b...</td>\n",
       "      <td>1</td>\n",
       "      <td>1</td>\n",
       "    </tr>\n",
       "    <tr>\n",
       "      <th>2168</th>\n",
       "      <td>40</td>\n",
       "      <td>Because its an older boutique hotel the room w...</td>\n",
       "      <td>1</td>\n",
       "      <td>1</td>\n",
       "    </tr>\n",
       "    <tr>\n",
       "      <th>9613</th>\n",
       "      <td>40</td>\n",
       "      <td>The rooms are very clean. The reading room and...</td>\n",
       "      <td>1</td>\n",
       "      <td>1</td>\n",
       "    </tr>\n",
       "    <tr>\n",
       "      <th>5385</th>\n",
       "      <td>50</td>\n",
       "      <td>Tropicana isn't for the faint hearted!! Had a ...</td>\n",
       "      <td>1</td>\n",
       "      <td>1</td>\n",
       "    </tr>\n",
       "    <tr>\n",
       "      <th>...</th>\n",
       "      <td>...</td>\n",
       "      <td>...</td>\n",
       "      <td>...</td>\n",
       "      <td>...</td>\n",
       "    </tr>\n",
       "    <tr>\n",
       "      <th>4532</th>\n",
       "      <td>50</td>\n",
       "      <td>Great hostel with chill vibes, just what you n...</td>\n",
       "      <td>1</td>\n",
       "      <td>1</td>\n",
       "    </tr>\n",
       "    <tr>\n",
       "      <th>7743</th>\n",
       "      <td>50</td>\n",
       "      <td>We love the Porta!!! The people there are so v...</td>\n",
       "      <td>1</td>\n",
       "      <td>1</td>\n",
       "    </tr>\n",
       "    <tr>\n",
       "      <th>12104</th>\n",
       "      <td>50</td>\n",
       "      <td>The Good Hotel is a great place to lay your he...</td>\n",
       "      <td>1</td>\n",
       "      <td>1</td>\n",
       "    </tr>\n",
       "    <tr>\n",
       "      <th>13300</th>\n",
       "      <td>50</td>\n",
       "      <td>Spacious rooms, all on one level, with high ce...</td>\n",
       "      <td>1</td>\n",
       "      <td>1</td>\n",
       "    </tr>\n",
       "    <tr>\n",
       "      <th>12907</th>\n",
       "      <td>50</td>\n",
       "      <td>We stayed in the hotel for 4 nights. Great loc...</td>\n",
       "      <td>1</td>\n",
       "      <td>1</td>\n",
       "    </tr>\n",
       "  </tbody>\n",
       "</table>\n",
       "<p>2280 rows × 4 columns</p>\n",
       "</div>"
      ],
      "text/plain": [
       "       rating                                             review  y_pred  \\\n",
       "10416      50  This place was the perfect place to spend the ...       1   \n",
       "13968      50  This place has a great six bed dorm room (no b...       1   \n",
       "2168       40  Because its an older boutique hotel the room w...       1   \n",
       "9613       40  The rooms are very clean. The reading room and...       1   \n",
       "5385       50  Tropicana isn't for the faint hearted!! Had a ...       1   \n",
       "...       ...                                                ...     ...   \n",
       "4532       50  Great hostel with chill vibes, just what you n...       1   \n",
       "7743       50  We love the Porta!!! The people there are so v...       1   \n",
       "12104      50  The Good Hotel is a great place to lay your he...       1   \n",
       "13300      50  Spacious rooms, all on one level, with high ce...       1   \n",
       "12907      50  We stayed in the hotel for 4 nights. Great loc...       1   \n",
       "\n",
       "       y_true  \n",
       "10416       1  \n",
       "13968       1  \n",
       "2168        1  \n",
       "9613        1  \n",
       "5385        1  \n",
       "...       ...  \n",
       "4532        1  \n",
       "7743        1  \n",
       "12104       1  \n",
       "13300       1  \n",
       "12907       1  \n",
       "\n",
       "[2280 rows x 4 columns]"
      ]
     },
     "execution_count": 25,
     "metadata": {},
     "output_type": "execute_result"
    }
   ],
   "source": [
    "val_res[0]"
   ]
  },
  {
   "cell_type": "markdown",
   "metadata": {},
   "source": [
    "Ahora calcularemos las métricas obtenidas para cada modelo de bigrama y su correspondiente modelo de probabilidad."
   ]
  },
  {
   "cell_type": "code",
   "execution_count": 27,
   "metadata": {},
   "outputs": [],
   "source": [
    "puntuacion = []\n",
    "for idx, dataset in enumerate(val_res):\n",
    "    puntuacion.append(calcular_metricas(data_set=dataset, ind=idx))\n",
    "score = pd.concat(puntuacion, axis=0)"
   ]
  },
  {
   "cell_type": "markdown",
   "metadata": {},
   "source": [
    "## Selección del mejor modelo"
   ]
  },
  {
   "cell_type": "code",
   "execution_count": 28,
   "metadata": {},
   "outputs": [
    {
     "data": {
      "text/html": [
       "<div>\n",
       "<style scoped>\n",
       "    .dataframe tbody tr th:only-of-type {\n",
       "        vertical-align: middle;\n",
       "    }\n",
       "\n",
       "    .dataframe tbody tr th {\n",
       "        vertical-align: top;\n",
       "    }\n",
       "\n",
       "    .dataframe thead th {\n",
       "        text-align: right;\n",
       "    }\n",
       "</style>\n",
       "<table border=\"1\" class=\"dataframe\">\n",
       "  <thead>\n",
       "    <tr style=\"text-align: right;\">\n",
       "      <th></th>\n",
       "      <th>bigrama</th>\n",
       "      <th>recall</th>\n",
       "      <th>precision</th>\n",
       "      <th>f1</th>\n",
       "    </tr>\n",
       "  </thead>\n",
       "  <tbody>\n",
       "    <tr>\n",
       "      <th>0</th>\n",
       "      <td>0</td>\n",
       "      <td>0.951669</td>\n",
       "      <td>0.954523</td>\n",
       "      <td>0.953094</td>\n",
       "    </tr>\n",
       "    <tr>\n",
       "      <th>0</th>\n",
       "      <td>2</td>\n",
       "      <td>0.946687</td>\n",
       "      <td>0.960566</td>\n",
       "      <td>0.953576</td>\n",
       "    </tr>\n",
       "    <tr>\n",
       "      <th>0</th>\n",
       "      <td>1</td>\n",
       "      <td>0.944195</td>\n",
       "      <td>0.957554</td>\n",
       "      <td>0.950828</td>\n",
       "    </tr>\n",
       "    <tr>\n",
       "      <th>0</th>\n",
       "      <td>3</td>\n",
       "      <td>0.925262</td>\n",
       "      <td>0.967692</td>\n",
       "      <td>0.946001</td>\n",
       "    </tr>\n",
       "    <tr>\n",
       "      <th>0</th>\n",
       "      <td>7</td>\n",
       "      <td>0.924763</td>\n",
       "      <td>0.969191</td>\n",
       "      <td>0.946456</td>\n",
       "    </tr>\n",
       "    <tr>\n",
       "      <th>0</th>\n",
       "      <td>4</td>\n",
       "      <td>0.923269</td>\n",
       "      <td>0.966615</td>\n",
       "      <td>0.944444</td>\n",
       "    </tr>\n",
       "    <tr>\n",
       "      <th>0</th>\n",
       "      <td>5</td>\n",
       "      <td>0.923269</td>\n",
       "      <td>0.967624</td>\n",
       "      <td>0.944926</td>\n",
       "    </tr>\n",
       "    <tr>\n",
       "      <th>0</th>\n",
       "      <td>6</td>\n",
       "      <td>0.922770</td>\n",
       "      <td>0.971159</td>\n",
       "      <td>0.946346</td>\n",
       "    </tr>\n",
       "    <tr>\n",
       "      <th>0</th>\n",
       "      <td>8</td>\n",
       "      <td>0.922272</td>\n",
       "      <td>0.968096</td>\n",
       "      <td>0.944629</td>\n",
       "    </tr>\n",
       "  </tbody>\n",
       "</table>\n",
       "</div>"
      ],
      "text/plain": [
       "   bigrama    recall  precision        f1\n",
       "0        0  0.951669   0.954523  0.953094\n",
       "0        2  0.946687   0.960566  0.953576\n",
       "0        1  0.944195   0.957554  0.950828\n",
       "0        3  0.925262   0.967692  0.946001\n",
       "0        7  0.924763   0.969191  0.946456\n",
       "0        4  0.923269   0.966615  0.944444\n",
       "0        5  0.923269   0.967624  0.944926\n",
       "0        6  0.922770   0.971159  0.946346\n",
       "0        8  0.922272   0.968096  0.944629"
      ]
     },
     "execution_count": 28,
     "metadata": {},
     "output_type": "execute_result"
    }
   ],
   "source": [
    "score.sort_values(by=['recall'], ascending=False)"
   ]
  },
  {
   "cell_type": "markdown",
   "metadata": {},
   "source": [
    "Precision-Recall es una medida útil del éxito de la predicción cuando las clases están muy desequilibradas, como en este caso. En la recuperación de información, la precisión es una medida de la relevancia de los resultados, mientras que el *recall* es una medida de cuántos resultados verdaderamente relevantes se devuelven.\n"
   ]
  },
  {
   "cell_type": "markdown",
   "metadata": {},
   "source": [
    "Elegiremos el modelo con bigrama que se encuentra en la primera posición (0) debido a que es el que tiene el mejor recall."
   ]
  },
  {
   "cell_type": "markdown",
   "metadata": {},
   "source": [
    "## Evaluación con Set de Pruebas"
   ]
  },
  {
   "cell_type": "code",
   "execution_count": 33,
   "metadata": {},
   "outputs": [],
   "source": [
    "test_res = classified_data(test, bigram_model=modelos_bigramas[0], model=modelos[0])"
   ]
  },
  {
   "cell_type": "code",
   "execution_count": 35,
   "metadata": {},
   "outputs": [],
   "source": [
    "metricas_test = calcular_metricas(data_set=test_res, ind=0)"
   ]
  },
  {
   "cell_type": "code",
   "execution_count": 36,
   "metadata": {},
   "outputs": [
    {
     "data": {
      "text/html": [
       "<div>\n",
       "<style scoped>\n",
       "    .dataframe tbody tr th:only-of-type {\n",
       "        vertical-align: middle;\n",
       "    }\n",
       "\n",
       "    .dataframe tbody tr th {\n",
       "        vertical-align: top;\n",
       "    }\n",
       "\n",
       "    .dataframe thead th {\n",
       "        text-align: right;\n",
       "    }\n",
       "</style>\n",
       "<table border=\"1\" class=\"dataframe\">\n",
       "  <thead>\n",
       "    <tr style=\"text-align: right;\">\n",
       "      <th></th>\n",
       "      <th>bigrama</th>\n",
       "      <th>recall</th>\n",
       "      <th>precision</th>\n",
       "      <th>f1</th>\n",
       "    </tr>\n",
       "  </thead>\n",
       "  <tbody>\n",
       "    <tr>\n",
       "      <th>0</th>\n",
       "      <td>0</td>\n",
       "      <td>0.956649</td>\n",
       "      <td>0.949251</td>\n",
       "      <td>0.952935</td>\n",
       "    </tr>\n",
       "  </tbody>\n",
       "</table>\n",
       "</div>"
      ],
      "text/plain": [
       "   bigrama    recall  precision        f1\n",
       "0        0  0.956649   0.949251  0.952935"
      ]
     },
     "execution_count": 36,
     "metadata": {},
     "output_type": "execute_result"
    }
   ],
   "source": [
    "metricas_test"
   ]
  },
  {
   "cell_type": "code",
   "execution_count": 37,
   "metadata": {},
   "outputs": [
    {
     "data": {
      "text/html": [
       "<div>\n",
       "<style scoped>\n",
       "    .dataframe tbody tr th:only-of-type {\n",
       "        vertical-align: middle;\n",
       "    }\n",
       "\n",
       "    .dataframe tbody tr th {\n",
       "        vertical-align: top;\n",
       "    }\n",
       "\n",
       "    .dataframe thead th {\n",
       "        text-align: right;\n",
       "    }\n",
       "</style>\n",
       "<table border=\"1\" class=\"dataframe\">\n",
       "  <thead>\n",
       "    <tr style=\"text-align: right;\">\n",
       "      <th></th>\n",
       "      <th>rating</th>\n",
       "      <th>review</th>\n",
       "      <th>y_pred</th>\n",
       "      <th>y_true</th>\n",
       "    </tr>\n",
       "  </thead>\n",
       "  <tbody>\n",
       "    <tr>\n",
       "      <th>15260</th>\n",
       "      <td>50</td>\n",
       "      <td>If the town of Antigua were not so lovely, I'd...</td>\n",
       "      <td>1</td>\n",
       "      <td>1</td>\n",
       "    </tr>\n",
       "    <tr>\n",
       "      <th>403</th>\n",
       "      <td>40</td>\n",
       "      <td>We really loved this hotel, the only slight do...</td>\n",
       "      <td>1</td>\n",
       "      <td>1</td>\n",
       "    </tr>\n",
       "    <tr>\n",
       "      <th>3120</th>\n",
       "      <td>50</td>\n",
       "      <td>When I booked my stay here, it was really easy...</td>\n",
       "      <td>1</td>\n",
       "      <td>1</td>\n",
       "    </tr>\n",
       "    <tr>\n",
       "      <th>10464</th>\n",
       "      <td>50</td>\n",
       "      <td>My husband &amp; I stayed here for 4 days when we ...</td>\n",
       "      <td>1</td>\n",
       "      <td>1</td>\n",
       "    </tr>\n",
       "    <tr>\n",
       "      <th>768</th>\n",
       "      <td>40</td>\n",
       "      <td>Stayed here (not Euro Maya Suites) for one nig...</td>\n",
       "      <td>1</td>\n",
       "      <td>1</td>\n",
       "    </tr>\n",
       "    <tr>\n",
       "      <th>...</th>\n",
       "      <td>...</td>\n",
       "      <td>...</td>\n",
       "      <td>...</td>\n",
       "      <td>...</td>\n",
       "    </tr>\n",
       "    <tr>\n",
       "      <th>9068</th>\n",
       "      <td>30</td>\n",
       "      <td>Dirty, old and terrible service. I pay 97 us f...</td>\n",
       "      <td>0</td>\n",
       "      <td>0</td>\n",
       "    </tr>\n",
       "    <tr>\n",
       "      <th>1022</th>\n",
       "      <td>30</td>\n",
       "      <td>The place is awesome, but service at Casa Sant...</td>\n",
       "      <td>1</td>\n",
       "      <td>0</td>\n",
       "    </tr>\n",
       "    <tr>\n",
       "      <th>3675</th>\n",
       "      <td>50</td>\n",
       "      <td>LISTEN  TO ALL THE OTHER REVIEWS! This is defi...</td>\n",
       "      <td>0</td>\n",
       "      <td>1</td>\n",
       "    </tr>\n",
       "    <tr>\n",
       "      <th>6934</th>\n",
       "      <td>50</td>\n",
       "      <td>The staff is fabulous, the hotel is charming, ...</td>\n",
       "      <td>1</td>\n",
       "      <td>1</td>\n",
       "    </tr>\n",
       "    <tr>\n",
       "      <th>9775</th>\n",
       "      <td>40</td>\n",
       "      <td>OK let's go.  I spent 2 weeks there.  1) Locat...</td>\n",
       "      <td>0</td>\n",
       "      <td>1</td>\n",
       "    </tr>\n",
       "  </tbody>\n",
       "</table>\n",
       "<p>2353 rows × 4 columns</p>\n",
       "</div>"
      ],
      "text/plain": [
       "       rating                                             review  y_pred  \\\n",
       "15260      50  If the town of Antigua were not so lovely, I'd...       1   \n",
       "403        40  We really loved this hotel, the only slight do...       1   \n",
       "3120       50  When I booked my stay here, it was really easy...       1   \n",
       "10464      50  My husband & I stayed here for 4 days when we ...       1   \n",
       "768        40  Stayed here (not Euro Maya Suites) for one nig...       1   \n",
       "...       ...                                                ...     ...   \n",
       "9068       30  Dirty, old and terrible service. I pay 97 us f...       0   \n",
       "1022       30  The place is awesome, but service at Casa Sant...       1   \n",
       "3675       50  LISTEN  TO ALL THE OTHER REVIEWS! This is defi...       0   \n",
       "6934       50  The staff is fabulous, the hotel is charming, ...       1   \n",
       "9775       40  OK let's go.  I spent 2 weeks there.  1) Locat...       0   \n",
       "\n",
       "       y_true  \n",
       "15260       1  \n",
       "403         1  \n",
       "3120        1  \n",
       "10464       1  \n",
       "768         1  \n",
       "...       ...  \n",
       "9068        0  \n",
       "1022        0  \n",
       "3675        1  \n",
       "6934        1  \n",
       "9775        1  \n",
       "\n",
       "[2353 rows x 4 columns]"
      ]
     },
     "execution_count": 37,
     "metadata": {},
     "output_type": "execute_result"
    }
   ],
   "source": [
    "test_res"
   ]
  },
  {
   "cell_type": "code",
   "execution_count": 40,
   "metadata": {},
   "outputs": [
    {
     "name": "stdout",
     "output_type": "stream",
     "text": [
      "[[ 195  105]\n",
      " [  89 1964]]\n"
     ]
    }
   ],
   "source": [
    "cf_matrix = confusion_matrix(test_res.y_true, test_res.y_pred)\n",
    "print(cf_matrix)"
   ]
  },
  {
   "cell_type": "code",
   "execution_count": 44,
   "metadata": {},
   "outputs": [
    {
     "data": {
      "text/plain": [
       "<sklearn.metrics._plot.precision_recall_curve.PrecisionRecallDisplay at 0x1e7e5087b50>"
      ]
     },
     "execution_count": 44,
     "metadata": {},
     "output_type": "execute_result"
    },
    {
     "data": {
      "image/png": "[encoded data removed]",
      "text/plain": [
       "<Figure size 432x288 with 1 Axes>"
      ]
     },
     "metadata": {
      "needs_background": "light"
     },
     "output_type": "display_data"
    }
   ],
   "source": [
    "precision, recall, _ = precision_recall_curve(test_res.y_true, test_res.y_pred)\n",
    "disp = PrecisionRecallDisplay(precision, recall)\n",
    "disp.plot()"
   ]
  },
  {
   "cell_type": "markdown",
   "metadata": {},
   "source": [
    "Esta gráfica nos permite ver a partir de qué recall tenemos una degradación de la precisión y viceversa. Lo ideal sería una curva que se acerque lo máximo posible a la esquina superior derecha (alta precisión y alto recall)"
   ]
  },
  {
   "cell_type": "markdown",
   "metadata": {},
   "source": [
    "# Conclusiones"
   ]
  },
  {
   "cell_type": "markdown",
   "metadata": {},
   "source": [
    "- Los resultados del conjunto de prueba son superiores en cuanto a recall y precisión que los del conjunto de entrenamiento, lo que significa que no tenemos **overfitting**.\n",
    "- Tenemos una alta precisión y un alto recall en el conjunto de prueba, lo que significa que el modelo maneja muy bien esa clase (POS), a pesar de que los datos presentaron desbalance. El trade-off precision-recall es muy bueno a como podemos apreciar en la gráfica.\n",
    "- El f1 score nos dice que la combinación de precisión y recall es muy buena.\n",
    "- Se usaron como hiperparámetros el treshold y umbral, de igual forma se hubiera podido utilizar n-grams, la forma de lematizar y eliminar palabras. Pero por cuestiones de tiempo de ejeciciones del modelo nos quedamos las primeras dos. "
   ]
  }
 ],
 "metadata": {
  "kernelspec": {
   "display_name": "Python 3.10.5 ('nlp')",
   "language": "python",
   "name": "python3"
  },
  "language_info": {
   "codemirror_mode": {
    "name": "ipython",
    "version": 3
   },
   "file_extension": ".py",
   "mimetype": "text/x-python",
   "name": "python",
   "nbconvert_exporter": "python",
   "pygments_lexer": "ipython3",
   "version": "3.10.5"
  },
  "orig_nbformat": 4,
  "vscode": {
   "interpreter": {
    "hash": "c81d915d533cd32df09449a8e18df553773621c016b3b80bc57239479d851c73"
   }
  }
 },
 "nbformat": 4,
 "nbformat_minor": 2
}
